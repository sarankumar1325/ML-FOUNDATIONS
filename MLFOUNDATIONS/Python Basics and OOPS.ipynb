{
 "cells": [
  {
   "cell_type": "markdown",
   "id": "da64c5d9",
   "metadata": {},
   "source": [
    "# Python Data Structures and OOP: From Zero to Mastery\n",
    "This notebook is a step-by-step guide to mastering Python's core data structures and object-oriented programming (OOP) concepts. Work through each section, run the code, and try the practice exercises!"
   ]
  },
  {
   "cell_type": "markdown",
   "id": "a67cf940",
   "metadata": {},
   "source": [
    "## 1. Lists\n",
    "A list is an ordered, mutable collection of items. Lists can hold any data type."
   ]
  },
  {
   "cell_type": "code",
   "execution_count": 1,
   "id": "4db085a6",
   "metadata": {},
   "outputs": [
    {
     "name": "stdout",
     "output_type": "stream",
     "text": [
      "[1, 2, 3, 4, 5]\n",
      "1\n",
      "[1, 20, 3, 4, 5]\n",
      "[1, 20, 3, 4, 5, 6]\n",
      "[1, 20, 4, 5, 6]\n",
      "[20, 4, 5]\n"
     ]
    }
   ],
   "source": [
    "# Creating a list\n",
    "numbers = [1, 2, 3, 4, 5]\n",
    "print(numbers)\n",
    "\n",
    "# Accessing elements\n",
    "print(numbers[0])  # First element\n",
    "\n",
    "# Modifying elements\n",
    "numbers[1] = 20\n",
    "print(numbers)\n",
    "\n",
    "# Adding elements\n",
    "numbers.append(6)\n",
    "print(numbers)\n",
    "\n",
    "# Removing elements\n",
    "numbers.remove(3)\n",
    "print(numbers)\n",
    "\n",
    "# Slicing\n",
    "print(numbers[1:4])"
   ]
  },
  {
   "cell_type": "markdown",
   "id": "928b7e60",
   "metadata": {},
   "source": [
    "### Practice: Create a list of your 3 favorite foods. Add a new food, remove one, and print the final list."
   ]
  },
  {
   "cell_type": "code",
   "execution_count": 5,
   "id": "1f9e7d11",
   "metadata": {},
   "outputs": [
    {
     "name": "stdout",
     "output_type": "stream",
     "text": [
      "['Biriyani', 'Parotta', 'Roast']\n",
      "['Biriyani', 'Parotta', 'Roast', 'Chappathi']\n",
      "['Biriyani', 'Roast', 'Chappathi']\n"
     ]
    }
   ],
   "source": [
    "# Your code here\n",
    "favourite_foods = [\"Biriyani\",\"Parotta\",\"Roast\"]\n",
    "print(favourite_foods)\n",
    "favourite_foods.append(\"Chappathi\")\n",
    "print(favourite_foods)\n",
    "favourite_foods.remove(\"Parotta\")\n",
    "print(favourite_foods)"
   ]
  },
  {
   "cell_type": "markdown",
   "id": "eeea480e",
   "metadata": {},
   "source": [
    "## 2. Tuples\n",
    "A tuple is an ordered, immutable collection. Use tuples for data that shouldn't change."
   ]
  },
  {
   "cell_type": "code",
   "execution_count": null,
   "id": "e0656051",
   "metadata": {},
   "outputs": [],
   "source": [
    "# Creating a tuple\n",
    "point = (10, 20)\n",
    "print(point)\n",
    "\n",
    "# Accessing elements\n",
    "print(point[0])\n",
    "\n",
    "# Tuples are immutable:\n",
    "# point[0] = 5  # This will raise an error"
   ]
  },
  {
   "cell_type": "markdown",
   "id": "73e8304c",
   "metadata": {},
   "source": [
    "### Practice: Create a tuple representing your birthday (year, month, day)."
   ]
  },
  {
   "cell_type": "code",
   "execution_count": 7,
   "id": "9b2d857b",
   "metadata": {},
   "outputs": [
    {
     "name": "stdout",
     "output_type": "stream",
     "text": [
      "(2005, 2, 13)\n"
     ]
    }
   ],
   "source": [
    "# Your code here\n",
    "my_dob = (2005,2, 13)\n",
    "print(my_dob)"
   ]
  },
  {
   "cell_type": "markdown",
   "id": "1c5cd724",
   "metadata": {},
   "source": [
    "## 3. Sets\n",
    "A set is an unordered collection of unique items. Useful for removing duplicates."
   ]
  },
  {
   "cell_type": "code",
   "execution_count": 1,
   "id": "0e484fd9",
   "metadata": {},
   "outputs": [
    {
     "name": "stdout",
     "output_type": "stream",
     "text": [
      "{'red', 'green', 'blue'}\n",
      "{'red', 'blue', 'yellow'}\n"
     ]
    }
   ],
   "source": [
    "# Creating a set\n",
    "colors = {\"red\", \"green\", \"blue\", \"red\"}\n",
    "print(colors)  # Duplicates are removed\n",
    "\n",
    "# Adding and removing\n",
    "colors.add(\"yellow\")\n",
    "colors.remove(\"green\")\n",
    "print(colors)"
   ]
  },
  {
   "cell_type": "markdown",
   "id": "db5de5fd",
   "metadata": {},
   "source": [
    "### Practice: Create a set of your favorite hobbies. Add a new hobby and remove one."
   ]
  },
  {
   "cell_type": "code",
   "execution_count": 4,
   "id": "6f4152fb",
   "metadata": {},
   "outputs": [
    {
     "name": "stdout",
     "output_type": "stream",
     "text": [
      "{'Coding', 'Cricket', 'Reading'}\n",
      "{'Coding', 'Reels', 'Cricket', 'Reading'}\n",
      "{'Coding', 'Reels', 'Cricket'}\n"
     ]
    }
   ],
   "source": [
    "# Your code here\n",
    "Hobbies = {\"Reading\", \"Cricket\", \"Coding\"}\n",
    "print(Hobbies)\n",
    "Hobbies.add(\"Reels\")\n",
    "print(Hobbies)\n",
    "Hobbies.remove(\"Reading\")\n",
    "print(Hobbies)"
   ]
  },
  {
   "cell_type": "markdown",
   "id": "b689bdf5",
   "metadata": {},
   "source": [
    "## 4. Dictionaries\n",
    "A dictionary stores key-value pairs. Keys must be unique and immutable."
   ]
  },
  {
   "cell_type": "code",
   "execution_count": 5,
   "id": "06a5536c",
   "metadata": {},
   "outputs": [
    {
     "name": "stdout",
     "output_type": "stream",
     "text": [
      "{'name': 'Alice', 'age': 30}\n",
      "Alice\n",
      "{'name': 'Alice', 'age': 31, 'city': 'New York'}\n",
      "{'name': 'Alice', 'age': 31}\n"
     ]
    }
   ],
   "source": [
    "# Creating a dictionary\n",
    "person = {\"name\": \"Alice\", \"age\": 30}\n",
    "print(person)\n",
    "\n",
    "# Accessing values\n",
    "print(person[\"name\"])\n",
    "\n",
    "# Adding and updating\n",
    "person[\"city\"] = \"New York\"\n",
    "person[\"age\"] = 31\n",
    "print(person)\n",
    "\n",
    "# Removing a key\n",
    "person.pop(\"city\")\n",
    "print(person)"
   ]
  },
  {
   "cell_type": "markdown",
   "id": "82799b48",
   "metadata": {},
   "source": [
    "### Practice: Create a dictionary for a movie (title, year, director). Update the year and add a rating."
   ]
  },
  {
   "cell_type": "code",
   "execution_count": 6,
   "id": "727ed7d7",
   "metadata": {},
   "outputs": [
    {
     "name": "stdout",
     "output_type": "stream",
     "text": [
      "{'name': 'Kathi', 'year': 2016, 'director': 'AR Murugadoss'}\n",
      "{'name': 'Kathi', 'year': 2016, 'director': 'AR Murugadoss', 'rating': 8.5}\n",
      "{'name': 'Kathi', 'director': 'AR Murugadoss', 'rating': 8.5}\n"
     ]
    }
   ],
   "source": [
    "# Your code here\n",
    "movies = {\"name\":\"Kathi\", \"year\":2016, \"director\":\"AR Murugadoss\"}\n",
    "print(movies)\n",
    "movies[\"rating\"] = 8.5\n",
    "print(movies)\n",
    "movies.pop(\"year\")\n",
    "print(movies)"
   ]
  },
  {
   "cell_type": "markdown",
   "id": "7d643a38",
   "metadata": {},
   "source": [
    "## 5. Nested Data Structures\n",
    "You can combine data structures for more complex data."
   ]
  },
  {
   "cell_type": "code",
   "execution_count": 7,
   "id": "67ffd48d",
   "metadata": {},
   "outputs": [
    {
     "name": "stdout",
     "output_type": "stream",
     "text": [
      "[{'name': 'John', 'grade': 90}, {'name': 'Jane', 'grade': 85}]\n",
      "{'students': ['John', 'Jane', 'Alice'], 'teacher': 'Mr. Smith'}\n"
     ]
    }
   ],
   "source": [
    "# List of dictionaries\n",
    "students = [\n",
    "    {\"name\": \"John\", \"grade\": 90},\n",
    "    {\"name\": \"Jane\", \"grade\": 85}\n",
    "]\n",
    "print(students)\n",
    "\n",
    "# Dictionary with list values\n",
    "classroom = {\n",
    "    \"students\": [\"John\", \"Jane\", \"Alice\"],\n",
    "    \"teacher\": \"Mr. Smith\"\n",
    "}\n",
    "print(classroom)"
   ]
  },
  {
   "cell_type": "markdown",
   "id": "e46e0a86",
   "metadata": {},
   "source": [
    "### Practice: Create a list of 2 dictionaries, each representing a book (title, author)."
   ]
  },
  {
   "cell_type": "code",
   "execution_count": 11,
   "id": "bd490765",
   "metadata": {},
   "outputs": [
    {
     "name": "stdout",
     "output_type": "stream",
     "text": [
      "[{'tittle': 'The Alchemist', 'author': 'Paulo Coelho', 'year': 1988, 'genres': ['Adventure', 'Fantasy']}, {'tittle': 'To Kill a Mockingbird', 'author': 'Harper Lee', 'year': 1960, 'genres': ['Fiction', 'Drama']}]\n"
     ]
    }
   ],
   "source": [
    "# Your code here\n",
    "\n",
    "book = [\n",
    "    {\n",
    "    \"tittle\": \"The Alchemist\",\n",
    "    \"author\": \"Paulo Coelho\",       \n",
    "    \"year\": 1988,\n",
    "    \"genres\": [\"Adventure\", \"Fantasy\"]\n",
    "    },\n",
    "    {\n",
    "        \"tittle\": \"To Kill a Mockingbird\",\n",
    "        \"author\": \"Harper Lee\", \n",
    "        \"year\": 1960,\n",
    "        \"genres\": [\"Fiction\", \"Drama\"]\n",
    "    }\n",
    "]\n",
    "print(book)\n",
    "     \n",
    "       \n",
    "       \n"
   ]
  },
  {
   "cell_type": "markdown",
   "id": "86aa19ad",
   "metadata": {},
   "source": [
    "# Object-Oriented Programming (OOP)\n",
    "OOP is a way to structure code using classes and objects. Let's start from the basics and build up."
   ]
  },
  {
   "cell_type": "markdown",
   "id": "1daa4077",
   "metadata": {},
   "source": [
    "## 6. Classes and Objects\n",
    "A class is a blueprint for objects. An object is an instance of a class."
   ]
  },
  {
   "cell_type": "code",
   "execution_count": 12,
   "id": "e37a08c3",
   "metadata": {},
   "outputs": [
    {
     "name": "stdout",
     "output_type": "stream",
     "text": [
      "Buddy says woof!\n"
     ]
    }
   ],
   "source": [
    "# Define a class\n",
    "class Dog:\n",
    "    def __init__(self, name, age):\n",
    "        self.name = name\n",
    "        self.age = age\n",
    "    def bark(self):\n",
    "        print(f\"{self.name} says woof!\")\n",
    "\n",
    "# Create an object\n",
    "dog1 = Dog(\"Buddy\", 3)\n",
    "dog1.bark()"
   ]
  },
  {
   "cell_type": "markdown",
   "id": "2d09bfe6",
   "metadata": {},
   "source": [
    "### Practice: Create a class for a Car with attributes (make, model, year) and a method to display info."
   ]
  },
  {
   "cell_type": "code",
   "execution_count": 14,
   "id": "9ffeb657",
   "metadata": {},
   "outputs": [
    {
     "name": "stdout",
     "output_type": "stream",
     "text": [
      "Car: 2020 BMW X5\n"
     ]
    }
   ],
   "source": [
    "# Your code here\n",
    "class Car:\n",
    "    def __init__(self, make, model, year):\n",
    "        self.make = make\n",
    "        self.model = model\n",
    "        self.year = year\n",
    "    \n",
    "    def display_info(self):\n",
    "        print(f\"Car: {self.year} {self.make} {self.model}\")\n",
    "        \n",
    "        \n",
    "car1 = Car(\"BMW\", \"X5\", 2020)\n",
    "car1.display_info()        "
   ]
  },
  {
   "cell_type": "markdown",
   "id": "bde964d9",
   "metadata": {},
   "source": [
    "## 7. Inheritance\n",
    "A class can inherit attributes and methods from another class."
   ]
  },
  {
   "cell_type": "code",
   "execution_count": 15,
   "id": "bcc94d0d",
   "metadata": {},
   "outputs": [
    {
     "name": "stdout",
     "output_type": "stream",
     "text": [
      "Whiskers says meow!\n"
     ]
    }
   ],
   "source": [
    "# Base class\n",
    "class Animal:\n",
    "    def __init__(self, name):\n",
    "        self.name = name\n",
    "    def speak(self):\n",
    "        print(f\"{self.name} makes a sound.\")\n",
    "\n",
    "# Derived class\n",
    "class Cat(Animal):\n",
    "    def speak(self):\n",
    "        print(f\"{self.name} says meow!\")\n",
    "\n",
    "cat1 = Cat(\"Whiskers\")\n",
    "cat1.speak()"
   ]
  },
  {
   "cell_type": "markdown",
   "id": "bcebc154",
   "metadata": {},
   "source": [
    "### Practice: Create a class Bird that inherits from Animal and overrides the speak method."
   ]
  },
  {
   "cell_type": "code",
   "execution_count": 16,
   "id": "3ea2caca",
   "metadata": {},
   "outputs": [
    {
     "name": "stdout",
     "output_type": "stream",
     "text": [
      "Tweety says chirp!\n"
     ]
    }
   ],
   "source": [
    "# Your code here\n",
    "class Animal:\n",
    "    def __init__(self, name):\n",
    "        self.name = name\n",
    "    def speak(self):\n",
    "        print(f\"{self.name} makes a sound.\")\n",
    "        \n",
    "class Bird(Animal):\n",
    "    def speak(self):\n",
    "        print(f\"{self.name} says chirp!\")\n",
    "        \n",
    "bird1 = Bird(\"Tweety\")\n",
    "bird1.speak()                "
   ]
  },
  {
   "cell_type": "markdown",
   "id": "d899c095",
   "metadata": {},
   "source": [
    "## 8. Encapsulation and Properties\n",
    "Encapsulation means keeping data (attributes) private. Use properties to control access."
   ]
  },
  {
   "cell_type": "code",
   "execution_count": 17,
   "id": "cb60f09e",
   "metadata": {},
   "outputs": [
    {
     "name": "stdout",
     "output_type": "stream",
     "text": [
      "Alice\n",
      "Bob\n"
     ]
    }
   ],
   "source": [
    "class Person:\n",
    "    def __init__(self, name):\n",
    "        self._name = name  # convention: _ means 'private'\n",
    "    @property\n",
    "    def name(self):\n",
    "        return self._name\n",
    "    @name.setter\n",
    "    def name(self, value):\n",
    "        if not value:\n",
    "            raise ValueError(\"Name cannot be empty!\")\n",
    "        self._name = value\n",
    "\n",
    "p = Person(\"Alice\")\n",
    "print(p.name)\n",
    "p.name = \"Bob\"\n",
    "print(p.name)"
   ]
  },
  {
   "cell_type": "markdown",
   "id": "54a4b451",
   "metadata": {},
   "source": [
    "### Practice: Add a property to your Car class for the year, ensuring it can't be set to a value before 1886."
   ]
  },
  {
   "cell_type": "code",
   "execution_count": null,
   "id": "ca581524",
   "metadata": {},
   "outputs": [],
   "source": [
    "# Your code here"
   ]
  },
  {
   "cell_type": "markdown",
   "id": "a52a07e7",
   "metadata": {},
   "source": [
    "## 9. Polymorphism\n",
    "Polymorphism allows different classes to be used interchangeably if they implement the same method."
   ]
  },
  {
   "cell_type": "code",
   "execution_count": null,
   "id": "f9e1e9dd",
   "metadata": {},
   "outputs": [],
   "source": [
    "def animal_sound(animal):\n",
    "    animal.speak()\n",
    "\n",
    "animals = [Dog(\"Max\", 2), Cat(\"Kitty\")]\n",
    "for a in animals:\n",
    "    animal_sound(a)"
   ]
  },
  {
   "cell_type": "markdown",
   "id": "f6f1f32f",
   "metadata": {},
   "source": [
    "### Practice: Add your Bird class to the animals list and call animal_sound for each."
   ]
  },
  {
   "cell_type": "code",
   "execution_count": null,
   "id": "024cee7b",
   "metadata": {},
   "outputs": [],
   "source": [
    "# Your code here"
   ]
  },
  {
   "cell_type": "markdown",
   "id": "5ac65098",
   "metadata": {},
   "source": [
    "# Congratulations!\n",
    "You have reviewed and practiced Python's core data structures and OOP concepts from the ground up. Keep experimenting and building your own classes and data structures to master Python!"
   ]
  }
 ],
 "metadata": {
  "kernelspec": {
   "display_name": "base",
   "language": "python",
   "name": "python3"
  },
  "language_info": {
   "codemirror_mode": {
    "name": "ipython",
    "version": 3
   },
   "file_extension": ".py",
   "mimetype": "text/x-python",
   "name": "python",
   "nbconvert_exporter": "python",
   "pygments_lexer": "ipython3",
   "version": "3.11.5"
  }
 },
 "nbformat": 4,
 "nbformat_minor": 5
}
