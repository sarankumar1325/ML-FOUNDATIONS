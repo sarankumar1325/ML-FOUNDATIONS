{
 "cells": [
  {
   "cell_type": "markdown",
   "id": "f2fdc6a1",
   "metadata": {},
   "source": [
    "# Broadcasting Concepts in NumPy\n",
    "\n",
    "In this notebook, we will learn about broadcasting in NumPy. Broadcasting allows NumPy to perform operations on arrays of different shapes in a flexible way.\n",
    "\n",
    "## Table of Contents\n",
    "1. What is Broadcasting?\n",
    "2. Broadcasting Rules\n",
    "3. Examples of Broadcasting\n",
    "4. Common Broadcasting Errors\n",
    "5. Practical Applications\n",
    "6. Conclusion"
   ]
  },
  {
   "cell_type": "markdown",
   "id": "769a26ea",
   "metadata": {},
   "source": [
    "---\n",
    "\n",
    "## 1. What is Broadcasting?\n",
    "\n",
    "Broadcasting describes how NumPy treats arrays with different shapes during arithmetic operations. The smaller array is \"broadcast\" over the larger array so that they have compatible shapes."
   ]
  },
  {
   "cell_type": "markdown",
   "id": "363d8cb5",
   "metadata": {},
   "source": [
    "---\n",
    "\n",
    "## 2. Broadcasting Rules\n",
    "\n",
    "- If arrays have a different number of dimensions, pad the shape of the smaller array with ones on its left side.\n",
    "- Compare the shapes element-wise. Two dimensions are compatible when:\n",
    "    - they are equal, or\n",
    "    - one of them is 1"
   ]
  },
  {
   "cell_type": "markdown",
   "id": "1cc72b72",
   "metadata": {},
   "source": [
    "---\n",
    "\n",
    "## 3. Examples of Broadcasting"
   ]
  },
  {
   "cell_type": "code",
   "execution_count": 1,
   "id": "f53064b7",
   "metadata": {},
   "outputs": [
    {
     "name": "stdout",
     "output_type": "stream",
     "text": [
      "Adding scalar: [11 12 13]\n",
      "Adding 2D and 1D array:\n",
      " [[11 22 33]\n",
      " [14 25 36]]\n",
      "Broadcasting with column and row vectors:\n",
      " [[5 6 7]\n",
      " [6 7 8]\n",
      " [7 8 9]]\n"
     ]
    }
   ],
   "source": [
    "import numpy as np\n",
    "\n",
    "# Example 1: Adding a scalar to an array\n",
    "a = np.array([1, 2, 3])\n",
    "b = 10\n",
    "result1 = a + b\n",
    "print(\"Adding scalar:\", result1)\n",
    "\n",
    "# Example 2: Adding arrays of different shapes\n",
    "A = np.array([[1, 2, 3],\n",
    "              [4, 5, 6]])\n",
    "B = np.array([10, 20, 30])\n",
    "result2 = A + B\n",
    "print(\"Adding 2D and 1D array:\\n\", result2)\n",
    "\n",
    "# Example 3: Broadcasting with different dimensions\n",
    "C = np.array([[1], [2], [3]])\n",
    "D = np.array([4, 5, 6])\n",
    "result3 = C + D\n",
    "print(\"Broadcasting with column and row vectors:\\n\", result3)"
   ]
  },
  {
   "cell_type": "markdown",
   "id": "76b3a5c7",
   "metadata": {},
   "source": [
    "---\n",
    "\n",
    "## 4. Common Broadcasting Errors\n",
    "\n",
    "If the shapes are not compatible, NumPy will raise a `ValueError`."
   ]
  },
  {
   "cell_type": "code",
   "execution_count": 2,
   "id": "b63d7f25",
   "metadata": {},
   "outputs": [
    {
     "name": "stdout",
     "output_type": "stream",
     "text": [
      "Broadcasting error: operands could not be broadcast together with shapes (3,) (2,) \n"
     ]
    }
   ],
   "source": [
    "# Example of incompatible shapes\n",
    "try:\n",
    "    x = np.array([1, 2, 3])\n",
    "    y = np.array([1, 2])\n",
    "    z = x + y\n",
    "except ValueError as e:\n",
    "    print(\"Broadcasting error:\", e)"
   ]
  },
  {
   "cell_type": "markdown",
   "id": "0ac97291",
   "metadata": {},
   "source": [
    "---\n",
    "\n",
    "## 5. Practical Applications\n",
    "\n",
    "Broadcasting is useful for:\n",
    "- Centering data (subtracting the mean)\n",
    "- Normalizing arrays\n",
    "- Applying operations across rows or columns"
   ]
  },
  {
   "cell_type": "code",
   "execution_count": 3,
   "id": "5841942b",
   "metadata": {},
   "outputs": [
    {
     "name": "stdout",
     "output_type": "stream",
     "text": [
      "Centered data:\n",
      " [[-1.5 -1.5 -1.5]\n",
      " [ 1.5  1.5  1.5]]\n"
     ]
    }
   ],
   "source": [
    "# Centering data\n",
    "data = np.array([[1, 2, 3], [4, 5, 6]])\n",
    "mean = data.mean(axis=0)\n",
    "centered = data - mean\n",
    "print(\"Centered data:\\n\", centered)"
   ]
  },
  {
   "cell_type": "markdown",
   "id": "eef8c3de",
   "metadata": {},
   "source": [
    "---\n",
    "\n",
    "## 6. Conclusion\n",
    "\n",
    "Broadcasting makes array operations flexible and efficient in NumPy. Understanding broadcasting rules helps avoid errors and write concise code."
   ]
  }
 ],
 "metadata": {
  "kernelspec": {
   "display_name": "base",
   "language": "python",
   "name": "python3"
  },
  "language_info": {
   "codemirror_mode": {
    "name": "ipython",
    "version": 3
   },
   "file_extension": ".py",
   "mimetype": "text/x-python",
   "name": "python",
   "nbconvert_exporter": "python",
   "pygments_lexer": "ipython3",
   "version": "3.11.5"
  }
 },
 "nbformat": 4,
 "nbformat_minor": 5
}
