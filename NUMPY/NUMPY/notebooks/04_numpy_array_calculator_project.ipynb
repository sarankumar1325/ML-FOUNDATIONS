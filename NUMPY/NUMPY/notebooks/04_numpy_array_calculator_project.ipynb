{
 "cells": [
  {
   "cell_type": "markdown",
   "metadata": {},
   "source": [
    "# NumPy Array Calculator Project\n",
    "\n",
    "In this project, we will build a simple calculator using NumPy arrays. The calculator will perform basic arithmetic operations such as addition, subtraction, multiplication, and division on NumPy arrays. This notebook will guide you through the implementation process step by step."
   ]
  },
  {
   "cell_type": "markdown",
   "metadata": {},
   "source": [
    "## Project Overview\n",
    "\n",
    "The NumPy Array Calculator will allow users to input two arrays and choose an operation to perform. We will define functions for each arithmetic operation and handle user input to execute the desired calculation."
   ]
  },
  {
   "cell_type": "code",
   "execution_count": 1,
   "metadata": {
    "collapsed": false
   },
   "outputs": [
    {
     "name": "stdout",
     "output_type": "stream",
     "text": [
      "Welcome to the NumPy Array Calculator!\n",
      "Result: [5 7 9]\n"
     ]
    }
   ],
   "source": [
    "import numpy as np\n",
    "\n",
    "def add_arrays(arr1, arr2):\n",
    "    return np.add(arr1, arr2)\n",
    "\n",
    "def subtract_arrays(arr1, arr2):\n",
    "    return np.subtract(arr1, arr2)\n",
    "\n",
    "def multiply_arrays(arr1, arr2):\n",
    "    return np.multiply(arr1, arr2)\n",
    "\n",
    "def divide_arrays(arr1, arr2):\n",
    "    return np.divide(arr1, arr2)\n",
    "\n",
    "def calculator():\n",
    "    print(\"Welcome to the NumPy Array Calculator!\")\n",
    "    arr1 = np.array(eval(input(\"Enter the first array (e.g., [1, 2, 3]): \")))\n",
    "    arr2 = np.array(eval(input(\"Enter the second array (e.g., [4, 5, 6]): \")))\n",
    "    operation = input(\"Choose an operation (add, subtract, multiply, divide): \").strip().lower()\n",
    "    \n",
    "    if operation == 'add':\n",
    "        result = add_arrays(arr1, arr2)\n",
    "    elif operation == 'subtract':\n",
    "        result = subtract_arrays(arr1, arr2)\n",
    "    elif operation == 'multiply':\n",
    "        result = multiply_arrays(arr1, arr2)\n",
    "    elif operation == 'divide':\n",
    "        result = divide_arrays(arr1, arr2)\n",
    "    else:\n",
    "        print(\"Invalid operation!\")\n",
    "        return\n",
    "    \n",
    "    print(f\"Result: {result}\")\n",
    "\n",
    "calculator()"
   ]
  },
  {
   "cell_type": "markdown",
   "metadata": {},
   "source": [
    "## Instructions\n",
    "\n",
    "1. Run the code cell above to define the calculator functions.\n",
    "2. Follow the prompts to input two arrays and select an operation.\n",
    "3. The result will be displayed after the operation is performed.\n",
    "\n",
    "### Example\n",
    "If you enter the first array as `[1, 2, 3]` and the second array as `[4, 5, 6]`, and choose the operation `add`, the output will be `[5, 7, 9]`."
   ]
  }
 ],
 "metadata": {
  "kernelspec": {
   "display_name": "base",
   "language": "python",
   "name": "python3"
  },
  "language_info": {
   "codemirror_mode": {
    "name": "ipython",
    "version": 3
   },
   "file_extension": ".py",
   "mimetype": "text/x-python",
   "name": "python",
   "nbconvert_exporter": "python",
   "pygments_lexer": "ipython3",
   "version": "3.11.5"
  }
 },
 "nbformat": 4,
 "nbformat_minor": 4
}
