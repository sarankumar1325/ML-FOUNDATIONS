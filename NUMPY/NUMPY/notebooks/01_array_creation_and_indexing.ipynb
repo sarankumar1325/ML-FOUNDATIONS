{
 "cells": [
  {
   "cell_type": "markdown",
   "metadata": {},
   "source": [
    "# Array Creation and Indexing in NumPy\n",
    "\n",
    "In this notebook, we will learn how to create NumPy arrays and how to index and slice them. We will cover various methods for creating arrays and demonstrate how to access and manipulate their elements."
   ]
  },
  {
   "cell_type": "code",
   "execution_count": 1,
   "metadata": {},
   "outputs": [
    {
     "name": "stdout",
     "output_type": "stream",
     "text": [
      "1D Array: [1 2 3 4 5]\n"
     ]
    }
   ],
   "source": [
    "import numpy as np\n",
    "\n",
    "# Creating a 1D array\n",
    "array_1d = np.array([1, 2, 3, 4, 5])\n",
    "print(\"1D Array:\", array_1d)"
   ]
  },
  {
   "cell_type": "code",
   "execution_count": 2,
   "metadata": {},
   "outputs": [
    {
     "name": "stdout",
     "output_type": "stream",
     "text": [
      "2D Array:\n",
      "[[1 2 3]\n",
      " [4 5 6]]\n"
     ]
    }
   ],
   "source": [
    "# Creating a 2D array\n",
    "array_2d = np.array([[1, 2, 3], [4, 5, 6]])\n",
    "print(\"2D Array:\")\n",
    "print(array_2d)"
   ]
  },
  {
   "cell_type": "code",
   "execution_count": 3,
   "metadata": {},
   "outputs": [
    {
     "name": "stdout",
     "output_type": "stream",
     "text": [
      "Array of Zeros:\n",
      "[[0. 0. 0.]\n",
      " [0. 0. 0.]]\n"
     ]
    }
   ],
   "source": [
    "# Creating an array of zeros\n",
    "zeros_array = np.zeros((2, 3))\n",
    "print(\"Array of Zeros:\")\n",
    "print(zeros_array)"
   ]
  },
  {
   "cell_type": "code",
   "execution_count": 4,
   "metadata": {},
   "outputs": [
    {
     "name": "stdout",
     "output_type": "stream",
     "text": [
      "Array of Ones:\n",
      "[[1. 1.]\n",
      " [1. 1.]\n",
      " [1. 1.]]\n"
     ]
    }
   ],
   "source": [
    "# Creating an array of ones\n",
    "ones_array = np.ones((3, 2))\n",
    "print(\"Array of Ones:\")\n",
    "print(ones_array)"
   ]
  },
  {
   "cell_type": "code",
   "execution_count": 5,
   "metadata": {},
   "outputs": [
    {
     "name": "stdout",
     "output_type": "stream",
     "text": [
      "Array with Range of Values: [0 2 4 6 8]\n"
     ]
    }
   ],
   "source": [
    "# Creating an array with a range of values\n",
    "range_array = np.arange(0, 10, 2)\n",
    "print(\"Array with Range of Values:\", range_array)"
   ]
  },
  {
   "cell_type": "markdown",
   "metadata": {},
   "source": [
    "## Indexing and Slicing\n",
    "\n",
    "Now that we have created some arrays, let's learn how to index and slice them.\n"
   ]
  },
  {
   "cell_type": "code",
   "execution_count": 6,
   "metadata": {},
   "outputs": [
    {
     "name": "stdout",
     "output_type": "stream",
     "text": [
      "First element of 1D array: 1\n",
      "Sliced 1D array (elements 1 to 3): [2 3 4]\n"
     ]
    }
   ],
   "source": [
    "# Indexing a 1D array\n",
    "print(\"First element of 1D array:\", array_1d[0])\n",
    "\n",
    "# Slicing a 1D array\n",
    "print(\"Sliced 1D array (elements 1 to 3):\", array_1d[1:4])"
   ]
  },
  {
   "cell_type": "code",
   "execution_count": 7,
   "metadata": {},
   "outputs": [
    {
     "name": "stdout",
     "output_type": "stream",
     "text": [
      "Element at (1, 2) in 2D array: 6\n",
      "Sliced 2D array (first row): [1 2 3]\n"
     ]
    }
   ],
   "source": [
    "# Indexing a 2D array\n",
    "print(\"Element at (1, 2) in 2D array:\", array_2d[1, 2])\n",
    "\n",
    "# Slicing a 2D array\n",
    "print(\"Sliced 2D array (first row):\", array_2d[0, :])"
   ]
  },
  {
   "cell_type": "markdown",
   "metadata": {},
   "source": [
    "## Conclusion\n",
    "\n",
    "In this notebook, we have learned how to create NumPy arrays using various methods and how to index and slice them. You can now practice these concepts further by creating your own arrays and experimenting with different indexing techniques."
   ]
  }
 ],
 "metadata": {
  "kernelspec": {
   "display_name": "base",
   "language": "python",
   "name": "python3"
  },
  "language_info": {
   "codemirror_mode": {
    "name": "ipython",
    "version": 3
   },
   "file_extension": ".py",
   "mimetype": "text/x-python",
   "name": "python",
   "nbconvert_exporter": "python",
   "pygments_lexer": "ipython3",
   "version": "3.11.5"
  }
 },
 "nbformat": 4,
 "nbformat_minor": 4
}
