{
 "cells": [
  {
   "cell_type": "markdown",
   "metadata": {},
   "source": [
    "# Vectorization Operations in NumPy\n",
    "\n",
    "In this notebook, we will practice vectorization operations in NumPy. Vectorization allows us to perform operations on entire arrays without the need for explicit loops, leading to more efficient and concise code.\n",
    "\n",
    "## Table of Contents\n",
    "1. Introduction to Vectorization\n",
    "2. Basic Vectorized Operations\n",
    "3. Applying Functions to Arrays\n",
    "4. Performance Comparison with Loops\n",
    "5. Conclusion\n"
   ]
  },
  {
   "cell_type": "code",
   "execution_count": 1,
   "metadata": {
    "id": "vectorization-intro"
   },
   "outputs": [
    {
     "name": "stdout",
     "output_type": "stream",
     "text": [
      "Vectorization is a powerful feature of NumPy that allows for fast operations on arrays.\n"
     ]
    }
   ],
   "source": [
    "# Importing NumPy\n",
    "import numpy as np\n",
    "\n",
    "# Introduction to Vectorization\n",
    "print(\"Vectorization is a powerful feature of NumPy that allows for fast operations on arrays.\")"
   ]
  },
  {
   "cell_type": "markdown",
   "metadata": {},
   "source": [
    "## 1. Basic Vectorized Operations\n",
    "\n",
    "Let's start with some basic vectorized operations. We will create two NumPy arrays and perform element-wise addition, subtraction, multiplication, and division."
   ]
  },
  {
   "cell_type": "code",
   "execution_count": 2,
   "metadata": {
    "id": "basic-operations"
   },
   "outputs": [
    {
     "data": {
      "text/plain": [
       "(array([ 6,  8, 10, 12]),\n",
       " array([-4, -4, -4, -4]),\n",
       " array([ 5, 12, 21, 32]),\n",
       " array([0.2       , 0.33333333, 0.42857143, 0.5       ]))"
      ]
     },
     "execution_count": 2,
     "metadata": {},
     "output_type": "execute_result"
    }
   ],
   "source": [
    "# Creating two NumPy arrays\n",
    "a = np.array([1, 2, 3, 4])\n",
    "b = np.array([5, 6, 7, 8])\n",
    "\n",
    "# Element-wise operations\n",
    "addition = a + b\n",
    "subtraction = a - b\n",
    "multiplication = a * b\n",
    "division = a / b\n",
    "\n",
    "addition, subtraction, multiplication, division"
   ]
  },
  {
   "cell_type": "markdown",
   "metadata": {},
   "source": [
    "## 2. Applying Functions to Arrays\n",
    "\n",
    "We can also apply mathematical functions to entire arrays. Let's see how to use NumPy's built-in functions."
   ]
  },
  {
   "cell_type": "code",
   "execution_count": 3,
   "metadata": {
    "id": "apply-functions"
   },
   "outputs": [
    {
     "data": {
      "text/plain": [
       "(array([ 1,  4,  9, 16]),\n",
       " array([2.23606798, 2.44948974, 2.64575131, 2.82842712]),\n",
       " array([ 2.71828183,  7.3890561 , 20.08553692, 54.59815003]))"
      ]
     },
     "execution_count": 3,
     "metadata": {},
     "output_type": "execute_result"
    }
   ],
   "source": [
    "# Applying functions\n",
    "squared = np.square(a)\n",
    "sqrt = np.sqrt(b)\n",
    "exp = np.exp(a)\n",
    "\n",
    "squared, sqrt, exp"
   ]
  },
  {
   "cell_type": "markdown",
   "metadata": {},
   "source": [
    "## 3. Performance Comparison with Loops\n",
    "\n",
    "Let's compare the performance of vectorized operations with traditional loops."
   ]
  },
  {
   "cell_type": "code",
   "execution_count": 4,
   "metadata": {
    "id": "performance-comparison"
   },
   "outputs": [
    {
     "data": {
      "text/plain": [
       "(0.001422882080078125, 0.19321537017822266)"
      ]
     },
     "execution_count": 4,
     "metadata": {},
     "output_type": "execute_result"
    }
   ],
   "source": [
    "# Performance comparison\n",
    "import time\n",
    "\n",
    "# Creating a large array\n",
    "large_array = np.random.rand(1000000)\n",
    "\n",
    "# Timing vectorized operation\n",
    "start_time = time.time()\n",
    "vectorized_sum = np.sum(large_array)\n",
    "vectorized_time = time.time() - start_time\n",
    "\n",
    "# Timing loop operation\n",
    "start_time = time.time()\n",
    "loop_sum = 0\n",
    "for value in large_array:\n",
    "    loop_sum += value\n",
    "loop_time = time.time() - start_time\n",
    "\n",
    "vectorized_time, loop_time"
   ]
  },
  {
   "cell_type": "markdown",
   "metadata": {},
   "source": [
    "## 4. Conclusion\n",
    "\n",
    "In this notebook, we practiced vectorization operations in NumPy. We learned how to perform basic operations on arrays, apply functions efficiently, and compare the performance of vectorized operations with traditional loops."
   ]
  }
 ],
 "metadata": {
  "kernelspec": {
   "display_name": "base",
   "language": "python",
   "name": "python3"
  },
  "language_info": {
   "codemirror_mode": {
    "name": "ipython",
    "version": 3
   },
   "file_extension": ".py",
   "mimetype": "text/x-python",
   "name": "python",
   "nbconvert_exporter": "python",
   "pygments_lexer": "ipython3",
   "version": "3.11.5"
  }
 },
 "nbformat": 4,
 "nbformat_minor": 4
}
